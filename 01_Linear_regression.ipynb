{
 "cells": [
  {
   "cell_type": "code",
   "execution_count": 40,
   "metadata": {
    "collapsed": true
   },
   "outputs": [],
   "source": [
    "# Install packages\n",
    "\n",
    "import pandas as pd\n",
    "import numpy as np\n",
    "import matplotlib.pyplot as plt\n",
    "import seaborn as sns\n",
    "import warnings"
   ]
  },
  {
   "cell_type": "code",
   "execution_count": 65,
   "metadata": {
    "collapsed": true
   },
   "outputs": [],
   "source": [
    "# Plot settings\n",
    "sns.set_context('notebook') # optimise figures for notebook display\n",
    "sns.set_style('ticks') # set default plot style\n",
    "colours = ['#1F77B4', '#FF7F0E', '#2CA02C', '#DB2728', '#9467BD', '#8C564B', '#E377C2','#7F7F7F', '#BCBD22', '#17BECF']\n",
    "crayon = ['#4E79A7','#F28E2C','#E15759','#76B7B2','#59A14F', '#EDC949','#AF7AA1','#FF9DA7','#9C755F','#BAB0AB']\n",
    "sns.set_palette(colours) # set custom color scheme\n",
    "%matplotlib inline\n",
    "plt.rcParams['figure.figsize'] = (9, 6)"
   ]
  },
  {
   "cell_type": "code",
   "execution_count": 3,
   "metadata": {
    "collapsed": false
   },
   "outputs": [
    {
     "data": {
      "text/html": [
       "<div>\n",
       "<table border=\"1\" class=\"dataframe\">\n",
       "  <thead>\n",
       "    <tr style=\"text-align: right;\">\n",
       "      <th></th>\n",
       "      <th>Experience</th>\n",
       "      <th>Salary</th>\n",
       "    </tr>\n",
       "  </thead>\n",
       "  <tbody>\n",
       "    <tr>\n",
       "      <th>count</th>\n",
       "      <td>208.000000</td>\n",
       "      <td>208.000000</td>\n",
       "    </tr>\n",
       "    <tr>\n",
       "      <th>mean</th>\n",
       "      <td>12.048077</td>\n",
       "      <td>79843.846154</td>\n",
       "    </tr>\n",
       "    <tr>\n",
       "      <th>std</th>\n",
       "      <td>7.314706</td>\n",
       "      <td>22512.307844</td>\n",
       "    </tr>\n",
       "    <tr>\n",
       "      <th>min</th>\n",
       "      <td>2.000000</td>\n",
       "      <td>53400.000000</td>\n",
       "    </tr>\n",
       "    <tr>\n",
       "      <th>25%</th>\n",
       "      <td>7.000000</td>\n",
       "      <td>66000.000000</td>\n",
       "    </tr>\n",
       "    <tr>\n",
       "      <th>50%</th>\n",
       "      <td>10.000000</td>\n",
       "      <td>74000.000000</td>\n",
       "    </tr>\n",
       "    <tr>\n",
       "      <th>75%</th>\n",
       "      <td>16.000000</td>\n",
       "      <td>88000.000000</td>\n",
       "    </tr>\n",
       "    <tr>\n",
       "      <th>max</th>\n",
       "      <td>39.000000</td>\n",
       "      <td>194000.000000</td>\n",
       "    </tr>\n",
       "  </tbody>\n",
       "</table>\n",
       "</div>"
      ],
      "text/plain": [
       "       Experience         Salary\n",
       "count  208.000000     208.000000\n",
       "mean    12.048077   79843.846154\n",
       "std      7.314706   22512.307844\n",
       "min      2.000000   53400.000000\n",
       "25%      7.000000   66000.000000\n",
       "50%     10.000000   74000.000000\n",
       "75%     16.000000   88000.000000\n",
       "max     39.000000  194000.000000"
      ]
     },
     "execution_count": 3,
     "metadata": {},
     "output_type": "execute_result"
    }
   ],
   "source": [
    "# read input file\n",
    "\n",
    "df = pd.read_csv('Data\\Employees.csv')\n",
    "df.describe()"
   ]
  },
  {
   "cell_type": "code",
   "execution_count": 4,
   "metadata": {
    "collapsed": false
   },
   "outputs": [
    {
     "name": "stdout",
     "output_type": "stream",
     "text": [
      "<class 'pandas.core.frame.DataFrame'>\n",
      "RangeIndex: 208 entries, 0 to 207\n",
      "Data columns (total 3 columns):\n",
      "Gender        208 non-null object\n",
      "Experience    208 non-null int64\n",
      "Salary        208 non-null int64\n",
      "dtypes: int64(2), object(1)\n",
      "memory usage: 5.0+ KB\n"
     ]
    }
   ],
   "source": [
    "df.info()"
   ]
  },
  {
   "cell_type": "code",
   "execution_count": 13,
   "metadata": {
    "collapsed": false
   },
   "outputs": [
    {
     "data": {
      "text/html": [
       "<div>\n",
       "<table border=\"1\" class=\"dataframe\">\n",
       "  <thead>\n",
       "    <tr style=\"text-align: right;\">\n",
       "      <th></th>\n",
       "      <th>Gender</th>\n",
       "      <th>Experience</th>\n",
       "      <th>Salary</th>\n",
       "    </tr>\n",
       "  </thead>\n",
       "  <tbody>\n",
       "    <tr>\n",
       "      <th>203</th>\n",
       "      <td>Male</td>\n",
       "      <td>39</td>\n",
       "      <td>148000</td>\n",
       "    </tr>\n",
       "    <tr>\n",
       "      <th>204</th>\n",
       "      <td>Male</td>\n",
       "      <td>34</td>\n",
       "      <td>190000</td>\n",
       "    </tr>\n",
       "    <tr>\n",
       "      <th>205</th>\n",
       "      <td>Male</td>\n",
       "      <td>36</td>\n",
       "      <td>194000</td>\n",
       "    </tr>\n",
       "    <tr>\n",
       "      <th>206</th>\n",
       "      <td>Male</td>\n",
       "      <td>32</td>\n",
       "      <td>176000</td>\n",
       "    </tr>\n",
       "    <tr>\n",
       "      <th>207</th>\n",
       "      <td>Male</td>\n",
       "      <td>35</td>\n",
       "      <td>188000</td>\n",
       "    </tr>\n",
       "  </tbody>\n",
       "</table>\n",
       "</div>"
      ],
      "text/plain": [
       "    Gender  Experience  Salary\n",
       "203   Male          39  148000\n",
       "204   Male          34  190000\n",
       "205   Male          36  194000\n",
       "206   Male          32  176000\n",
       "207   Male          35  188000"
      ]
     },
     "execution_count": 13,
     "metadata": {},
     "output_type": "execute_result"
    }
   ],
   "source": [
    "df.isnull().sum(axis=0)\n",
    "df.head(5)\n",
    "df.tail(5)"
   ]
  },
  {
   "cell_type": "code",
   "execution_count": 22,
   "metadata": {
    "collapsed": false
   },
   "outputs": [
    {
     "data": {
      "text/html": [
       "<div>\n",
       "<table border=\"1\" class=\"dataframe\">\n",
       "  <thead>\n",
       "    <tr style=\"text-align: right;\">\n",
       "      <th></th>\n",
       "      <th>Gender</th>\n",
       "      <th>Experience</th>\n",
       "      <th>Salary</th>\n",
       "    </tr>\n",
       "  </thead>\n",
       "  <tbody>\n",
       "    <tr>\n",
       "      <th>183</th>\n",
       "      <td>Male</td>\n",
       "      <td>7</td>\n",
       "      <td>95000</td>\n",
       "    </tr>\n",
       "    <tr>\n",
       "      <th>171</th>\n",
       "      <td>Male</td>\n",
       "      <td>11</td>\n",
       "      <td>88000</td>\n",
       "    </tr>\n",
       "    <tr>\n",
       "      <th>91</th>\n",
       "      <td>Female</td>\n",
       "      <td>6</td>\n",
       "      <td>80000</td>\n",
       "    </tr>\n",
       "    <tr>\n",
       "      <th>79</th>\n",
       "      <td>Female</td>\n",
       "      <td>10</td>\n",
       "      <td>69200</td>\n",
       "    </tr>\n",
       "    <tr>\n",
       "      <th>81</th>\n",
       "      <td>Female</td>\n",
       "      <td>7</td>\n",
       "      <td>75000</td>\n",
       "    </tr>\n",
       "  </tbody>\n",
       "</table>\n",
       "</div>"
      ],
      "text/plain": [
       "     Gender  Experience  Salary\n",
       "183    Male           7   95000\n",
       "171    Male          11   88000\n",
       "91   Female           6   80000\n",
       "79   Female          10   69200\n",
       "81   Female           7   75000"
      ]
     },
     "execution_count": 22,
     "metadata": {},
     "output_type": "execute_result"
    }
   ],
   "source": [
    "from sklearn.model_selection import train_test_split\n",
    "\n",
    "# randomly split indexes\n",
    "\n",
    "train_index, test_index = train_test_split(np.array(df.index), train_size = 0.7, random_state = 123)\n",
    "train = df.loc[train_index,:].copy()\n",
    "test = df.loc[test_index,:].copy()\n",
    "\n",
    "train.head(5)"
   ]
  },
  {
   "cell_type": "code",
   "execution_count": 23,
   "metadata": {
    "collapsed": false
   },
   "outputs": [
    {
     "name": "stdout",
     "output_type": "stream",
     "text": [
      "[183 171  91  79  81 130 159 163 172   8 158  77 108  36  63  28  13 168\n",
      "  88 157  44 132 187 107  60   7  30 185 119 139  29  35   0 142  45 144\n",
      "  40  59 154  46 150   5  16 177  65 152 173  74 110  61 203  38  27  54\n",
      " 141 190 189 170 149  87   9   6 167 120 151 147 133 204 148  67   3  86\n",
      " 143  48 117  51   1  18  12 184  56  25 101  43 129 103  14 134 115 207\n",
      "  70  15 146  22 138  58  75  64  69 201 131  76  34 155  94 118  97 102\n",
      "  92 124  99 105 135 176 195 181 205  39  84   2  55  49  68 198 164  78\n",
      " 202 153 111 174  32  73  47 206 113  96  57 123 106  83  17  98  66 126\n",
      " 109]\n"
     ]
    }
   ],
   "source": [
    "print(train_index)"
   ]
  },
  {
   "cell_type": "code",
   "execution_count": 37,
   "metadata": {
    "collapsed": false
   },
   "outputs": [
    {
     "data": {
      "text/plain": [
       "Gender       \n",
       "Female  count       140.00\n",
       "        mean      74419.86\n",
       "        std       13421.73\n",
       "        min       53600.00\n",
       "        25%       65150.00\n",
       "        50%       70900.00\n",
       "        75%       83100.00\n",
       "        max      123600.00\n",
       "Male    count        68.00\n",
       "        mean      91010.88\n",
       "        std       31686.44\n",
       "        min       53400.00\n",
       "        25%       68750.00\n",
       "        50%       85000.00\n",
       "        75%       97250.00\n",
       "        max      194000.00\n",
       "Name: Salary, dtype: float64"
      ]
     },
     "execution_count": 37,
     "metadata": {},
     "output_type": "execute_result"
    }
   ],
   "source": [
    "# EDA\n",
    "\n",
    "df.groupby('Gender')['Salary'].describe().round(2)"
   ]
  },
  {
   "cell_type": "code",
   "execution_count": 44,
   "metadata": {
    "collapsed": false
   },
   "outputs": [
    {
     "data": {
      "image/png": "[encoded data removed]",
      "text/plain": [
       "<matplotlib.figure.Figure at 0x945bb870b8>"
      ]
     },
     "metadata": {},
     "output_type": "display_data"
    }
   ],
   "source": [
    "sns.boxplot(x = 'Gender', y = 'Salary', data = train, palette = 'Blues')\n",
    "plt.tight_layout()\n",
    "plt.show()"
   ]
  },
  {
   "cell_type": "code",
   "execution_count": 68,
   "metadata": {
    "collapsed": false
   },
   "outputs": [
    {
     "name": "stderr",
     "output_type": "stream",
     "text": [
      "C:\\Users\\Solaikarthick\\Anaconda3\\lib\\site-packages\\statsmodels\\nonparametric\\kdetools.py:20: VisibleDeprecationWarning: using a non-integer number instead of an integer will result in an error in the future\n",
      "  y = X[:m/2+1] + np.r_[0,X[m/2+1:],0]*1j\n"
     ]
    },
    {
     "data": {
      "image/png": "[encoded data removed]",
      "text/plain": [
       "<matplotlib.figure.Figure at 0x945db11278>"
      ]
     },
     "metadata": {},
     "output_type": "display_data"
    }
   ],
   "source": [
    "# Distribution plot\n",
    "sns.distplot(train.loc[train['Gender'] == 'Male','Salary'], hist = False, label = 'Male')\n",
    "sns.distplot(train.loc[train['Gender'] == 'Female','Salary'], hist = False, label = 'Female')\n",
    "sns.despine()\n",
    "plt.show()"
   ]
  },
  {
   "cell_type": "code",
   "execution_count": 67,
   "metadata": {
    "collapsed": false
   },
   "outputs": [
    {
     "data": {
      "image/png": "[encoded data removed]",
      "text/plain": [
       "<matplotlib.figure.Figure at 0x945da16dd8>"
      ]
     },
     "metadata": {},
     "output_type": "display_data"
    }
   ],
   "source": [
    "sns.regplot(train['Experience'], train['Salary'], scatter_kws={'s':30}, ci=None)\n",
    "plt.show()"
   ]
  },
  {
   "cell_type": "code",
   "execution_count": 66,
   "metadata": {
    "collapsed": false
   },
   "outputs": [
    {
     "data": {
      "image/png": "[encoded data removed]",
      "text/plain": [
       "<matplotlib.figure.Figure at 0x945da9c860>"
      ]
     },
     "metadata": {},
     "output_type": "display_data"
    }
   ],
   "source": [
    "sns.lmplot('Experience','Salary', data=train, hue='Gender', size=6, aspect=1.2,scatter_kws={'s':30})\n",
    "plt.show()"
   ]
  },
  {
   "cell_type": "code",
   "execution_count": 69,
   "metadata": {
    "collapsed": false
   },
   "outputs": [
    {
     "data": {
      "text/html": [
       "<div>\n",
       "<table border=\"1\" class=\"dataframe\">\n",
       "  <thead>\n",
       "    <tr style=\"text-align: right;\">\n",
       "      <th></th>\n",
       "      <th>Gender</th>\n",
       "      <th>Experience</th>\n",
       "      <th>Salary</th>\n",
       "      <th>Female</th>\n",
       "    </tr>\n",
       "  </thead>\n",
       "  <tbody>\n",
       "    <tr>\n",
       "      <th>183</th>\n",
       "      <td>Male</td>\n",
       "      <td>7</td>\n",
       "      <td>95000</td>\n",
       "      <td>0</td>\n",
       "    </tr>\n",
       "    <tr>\n",
       "      <th>171</th>\n",
       "      <td>Male</td>\n",
       "      <td>11</td>\n",
       "      <td>88000</td>\n",
       "      <td>0</td>\n",
       "    </tr>\n",
       "    <tr>\n",
       "      <th>91</th>\n",
       "      <td>Female</td>\n",
       "      <td>6</td>\n",
       "      <td>80000</td>\n",
       "      <td>1</td>\n",
       "    </tr>\n",
       "    <tr>\n",
       "      <th>79</th>\n",
       "      <td>Female</td>\n",
       "      <td>10</td>\n",
       "      <td>69200</td>\n",
       "      <td>1</td>\n",
       "    </tr>\n",
       "    <tr>\n",
       "      <th>81</th>\n",
       "      <td>Female</td>\n",
       "      <td>7</td>\n",
       "      <td>75000</td>\n",
       "      <td>1</td>\n",
       "    </tr>\n",
       "  </tbody>\n",
       "</table>\n",
       "</div>"
      ],
      "text/plain": [
       "     Gender  Experience  Salary  Female\n",
       "183    Male           7   95000       0\n",
       "171    Male          11   88000       0\n",
       "91   Female           6   80000       1\n",
       "79   Female          10   69200       1\n",
       "81   Female           7   75000       1"
      ]
     },
     "execution_count": 69,
     "metadata": {},
     "output_type": "execute_result"
    }
   ],
   "source": [
    "# Create dummy variable for Female\n",
    "def data_prep(df):\n",
    "    df['Female'] = (df['Gender'] == 'Female').astype(int)\n",
    "    return df\n",
    "\n",
    "train = data_prep(train)\n",
    "test = data_prep(test)\n",
    "train.head(5)\n"
   ]
  },
  {
   "cell_type": "code",
   "execution_count": 71,
   "metadata": {
    "collapsed": false
   },
   "outputs": [
    {
     "name": "stdout",
     "output_type": "stream",
     "text": [
      "                            OLS Regression Results                            \n",
      "==============================================================================\n",
      "Dep. Variable:                 Salary   R-squared:                       0.441\n",
      "Model:                            OLS   Adj. R-squared:                  0.433\n",
      "Method:                 Least Squares   F-statistic:                     56.07\n",
      "Date:                Tue, 27 Nov 2018   Prob (F-statistic):           1.13e-18\n",
      "Time:                        21:53:08   Log-Likelihood:                -1628.4\n",
      "No. Observations:                 145   AIC:                             3263.\n",
      "Df Residuals:                     142   BIC:                             3272.\n",
      "Df Model:                           2                                         \n",
      "Covariance Type:            nonrobust                                         \n",
      "==============================================================================\n",
      "                 coef    std err          t      P>|t|      [95.0% Conf. Int.]\n",
      "------------------------------------------------------------------------------\n",
      "Intercept    6.79e+04   3733.794     18.186      0.000      6.05e+04  7.53e+04\n",
      "Female     -1.719e+04   3330.489     -5.161      0.000     -2.38e+04 -1.06e+04\n",
      "Experience  1863.9662    201.638      9.244      0.000      1465.366  2262.567\n",
      "==============================================================================\n",
      "Omnibus:                       13.395   Durbin-Watson:                   2.283\n",
      "Prob(Omnibus):                  0.001   Jarque-Bera (JB):               21.416\n",
      "Skew:                           0.465   Prob(JB):                     2.24e-05\n",
      "Kurtosis:                       4.637   Cond. No.                         42.9\n",
      "==============================================================================\n",
      "\n",
      "Warnings:\n",
      "[1] Standard Errors assume that the covariance matrix of the errors is correctly specified.\n"
     ]
    }
   ],
   "source": [
    "import statsmodels.formula.api as smf\n",
    "\n",
    "fxn = 'Salary ~ Female + Experience'\n",
    "ols = smf.ols(formula=fxn, data=train).fit()\n",
    "print(ols.summary())"
   ]
  },
  {
   "cell_type": "code",
   "execution_count": 76,
   "metadata": {
    "collapsed": false
   },
   "outputs": [
    {
     "name": "stdout",
     "output_type": "stream",
     "text": [
      "[  82812.69284975   67488.27178975   80536.03534328   75356.82796201\n",
      "   77220.79418395   65624.30556782   60032.40690202   73080.17045555\n",
      "   60032.40690202   91719.83267488   75356.82796201   75356.82796201\n",
      "   90268.55773748   75356.82796201   75356.82796201   76808.10289942\n",
      "   61896.37312395  118228.05106648   86127.93400908   74944.13667748\n",
      "   58168.44068008  110772.18617874   73492.86174008   84263.96778715\n",
      "   78672.06912135   86540.62529361   80536.03534328   60032.40690202\n",
      "   65624.30556782   61896.37312395   80536.03534328   61896.37312395\n",
      "   67488.27178975  110772.18617874   80536.03534328   69352.23801168\n",
      "   82812.69284975   76808.10289942   58168.44068008  105180.28751294\n",
      "   78672.06912135  107044.25373488   82400.00156521   77220.79418395\n",
      "   78672.06912135   77220.79418395   63760.33934588   75356.82796201\n",
      "   86540.62529361   78672.06912135   61896.37312395  101452.35506908\n",
      "   91719.83267488   56304.47445815   92132.52395941   71216.20423362\n",
      "  110772.18617874   71216.20423362   63760.33934588   71216.20423362\n",
      "   79084.76040588   99175.69756261   65624.30556782]\n"
     ]
    }
   ],
   "source": [
    "from sklearn.metrics import mean_squared_error\n",
    "from sklearn.metrics import r2_score\n",
    "\n",
    "# Model 1\n",
    "fxn = 'Salary ~ Female + Experience'\n",
    "ols = smf.ols(formula=fxn, data=train).fit()\n",
    "predictions = ols.predict(test)\n",
    "print(predictions)"
   ]
  },
  {
   "cell_type": "code",
   "execution_count": 81,
   "metadata": {
    "collapsed": false
   },
   "outputs": [],
   "source": [
    "rmse = []\n",
    "r2 = []\n",
    "\n",
    "# Model 1\n",
    "rmse.append(np.sqrt(mean_squared_error(test['Salary'],predictions)))\n",
    "r2.append(r2_score(test['Salary'],predictions))\n",
    "\n",
    "# Model 2\n",
    "fxn = 'Salary ~ Female + Experience + Experience:Female'\n",
    "ols = smf.ols(formula=fxn, data=train).fit()\n",
    "predictions = ols.predict(test)\n",
    "rmse.append(np.sqrt(mean_squared_error(test['Salary'],predictions)))\n",
    "r2.append(r2_score(test['Salary'],predictions))\n",
    "\n",
    "# Model 3\n",
    "fxn = 'np.log(Salary) ~ Female + Experience'\n",
    "ols = smf.ols(formula=fxn, data=train).fit()\n",
    "predictions = ols.predict(test)\n",
    "rmse.append(np.sqrt(mean_squared_error(test['Salary'],predictions)))\n",
    "r2.append(r2_score(test['Salary'],predictions))\n",
    "\n",
    "# Model 4\n",
    "fxn = 'np.log(Salary) ~ Female + Experience + Experience:Female'\n",
    "ols = smf.ols(formula=fxn, data=train).fit()\n",
    "predictions = ols.predict(test)\n",
    "rmse.append(np.sqrt(mean_squared_error(test['Salary'],predictions)))\n",
    "r2.append(r2_score(test['Salary'],predictions))\n",
    "\n"
   ]
  },
  {
   "cell_type": "code",
   "execution_count": 87,
   "metadata": {
    "collapsed": false
   },
   "outputs": [
    {
     "name": "stdout",
     "output_type": "stream",
     "text": [
      "[83323.911562081747, 13043.407925689015, 83597.458068011518, 83597.455653005658]\n",
      "[-23.105629674041765, 0.40930766491934178, -23.264163628632812, -23.264162226721851]\n"
     ]
    }
   ],
   "source": [
    "print(rmse)\n",
    "print(r2)"
   ]
  },
  {
   "cell_type": "code",
   "execution_count": 93,
   "metadata": {
    "collapsed": false
   },
   "outputs": [
    {
     "data": {
      "text/html": [
       "<div>\n",
       "<table border=\"1\" class=\"dataframe\">\n",
       "  <thead>\n",
       "    <tr style=\"text-align: right;\">\n",
       "      <th></th>\n",
       "      <th>RMSE</th>\n",
       "      <th>R2_score</th>\n",
       "    </tr>\n",
       "  </thead>\n",
       "  <tbody>\n",
       "    <tr>\n",
       "      <th>Base Model</th>\n",
       "      <td>83323.91</td>\n",
       "      <td>-23.11</td>\n",
       "    </tr>\n",
       "    <tr>\n",
       "      <th>Interaction</th>\n",
       "      <td>13043.41</td>\n",
       "      <td>0.41</td>\n",
       "    </tr>\n",
       "    <tr>\n",
       "      <th>Log transform</th>\n",
       "      <td>83597.46</td>\n",
       "      <td>-23.26</td>\n",
       "    </tr>\n",
       "    <tr>\n",
       "      <th>Log transform + Interaction</th>\n",
       "      <td>83597.46</td>\n",
       "      <td>-23.26</td>\n",
       "    </tr>\n",
       "  </tbody>\n",
       "</table>\n",
       "</div>"
      ],
      "text/plain": [
       "                                 RMSE  R2_score\n",
       "Base Model                   83323.91    -23.11\n",
       "Interaction                  13043.41      0.41\n",
       "Log transform                83597.46    -23.26\n",
       "Log transform + Interaction  83597.46    -23.26"
      ]
     },
     "execution_count": 93,
     "metadata": {},
     "output_type": "execute_result"
    }
   ],
   "source": [
    "# Display results\n",
    "\n",
    "cols = ['RMSE', 'R2_score']\n",
    "rows = ['Base Model', 'Interaction', 'Log transform', 'Log transform + Interaction']\n",
    "\n",
    "table = pd.DataFrame(0.0, columns = cols, index = rows) # Intialise with 0.0 \n",
    "\n",
    "for i in range(4):\n",
    "    table.iloc[i,0] = rmse[i]\n",
    "    table.iloc[i,1] = r2[i]\n",
    "\n",
    "table.round(2)"
   ]
  }
 ],
 "metadata": {
  "kernelspec": {
   "display_name": "Python 3",
   "language": "python",
   "name": "python3"
  },
  "language_info": {
   "codemirror_mode": {
    "name": "ipython",
    "version": 3
   },
   "file_extension": ".py",
   "mimetype": "text/x-python",
   "name": "python",
   "nbconvert_exporter": "python",
   "pygments_lexer": "ipython3",
   "version": "3.6.0"
  }
 },
 "nbformat": 4,
 "nbformat_minor": 2
}
